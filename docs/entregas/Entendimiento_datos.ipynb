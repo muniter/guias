{
 "cells": [
  {
   "cell_type": "markdown",
   "metadata": {},
   "source": [
    "# Rúbrica\n",
    "\n",
    "Review Criteria\n",
    "\n",
    "Los criterios generales para la evaluación de la actividad son:\n",
    "\n",
    "    Completitud del perfilamiento de datos (40 puntos)\n",
    "\n",
    "1.1. Cantidad de registros y cantidad de columnas por tipo de dato\n",
    "\n",
    "1.2. Significado de una fila\n",
    "\n",
    "1.3 Estadisticas descriptivas por columna (numérica, categórica, fechas)\n",
    "\n",
    "    Completitud del análisis de la calidad de datos (40 puntos)\n",
    "\n",
    "2.1. Completitud: Datos que no existen o no se conocen\n",
    "\n",
    "2.2. Unicidad: Datos que son idénticos en diferentes registros o registros con valores idénticos en atributos en los que no debería ocurrir\n",
    "\n",
    "2.3. Consistencia: Esta medida se define por la validez o integridad del dato, en la definición de su estructura, al interior de una fila o entre diferentes filas de la misma fuente o de diferentes fuentes. El manejo de unidades en los datos y el significado del dato son generadores de inconsistencias.\n",
    "\n",
    "2.4 Validez: Datos correctos en el contextoCompletitud del análisis de la calidad de datos\n",
    "\n",
    "    Conclusión del entendimiento de datos (20 puntos)\n",
    "\n",
    "3.1. Justificación de si es posible resolver los análisis basados en tableros de control propuestos.\n",
    "\n",
    "3.2 Incluir la síntesis de lo que representa la fila promedio de los datos analizados.\n",
    "\n",
    "3.3 Lista de preguntas o comentarios realizados a la organización\n",
    "\n",
    "La empresa Wide World Importers nos entrega los datos y nos dice lo siguiente:\n",
    "\n",
    "Entendimiento de los datos de la tabla `movimientosCopia`\n",
    "\n",
    "1. Existen 236.668 movimientos de producto realizados desde 2013\n",
    "2. Los movimientos están relacionados con 228.265 clientes\n",
    "3. El formato de fechas manejado es YYYY-MM-DD HH:MM:SS\n",
    "4. Actualmente tenemos 13 proveedores\n",
    "5. La cantidad máxima de productos movidos es 50 millones por transacción\n"
   ]
  },
  {
   "cell_type": "code",
   "execution_count": 43,
   "metadata": {},
   "outputs": [],
   "source": [
    "from pyspark.sql import SparkSession\n",
    "from pyspark.sql import functions, DataFrame\n",
    "from pyspark.sql.types import StructType\n",
    "from pyspark import SparkContext, SparkConf, SQLContext\n",
    "from pyspark.sql.types import FloatType, StringType, IntegerType, DateType\n",
    "from pyspark.sql.functions import udf, col, length, isnan, when, count, sum, abs\n",
    "import pyspark.sql.functions as f\n",
    "import os\n",
    "from datetime import datetime\n",
    "from pyspark.sql import types as t\n",
    "from pandas_profiling import ProfileReport\n",
    "\n",
    "# import matplotlib.pyplot as plt\n",
    "import numpy as n"
   ]
  },
  {
   "cell_type": "code",
   "execution_count": 44,
   "metadata": {},
   "outputs": [],
   "source": [
    "path_jar_driver = \"/home/muniter/projects/msc/p7/datos/guias/mysql-connector.jar\"\n",
    "# Configuración de la sesión\n",
    "conf = SparkConf().set(\"spark.driver.extraClassPath\", path_jar_driver)\n",
    "\n",
    "spark_context = SparkContext.getOrCreate(conf=conf)\n",
    "sql_context = SQLContext(spark_context)\n",
    "spark = sql_context.sparkSession\n",
    "\n",
    "\n",
    "def obtener_dataframe_de_bd(queryOrTable: str) -> DataFrame:\n",
    "    # Si quiere practicar la conexion con el servidor de base de datos:\n",
    "    # las credenciales están almacenadas en el keyring del sistema operativo\n",
    "    import keyring\n",
    "    url = keyring.get_credential(\"msc_analitica_mysql_db_uri\", None).password\n",
    "    credential = keyring.get_credential(\"msc_analitica_mysql_db\", None)\n",
    "\n",
    "    data = (\n",
    "        spark.read.format(\"jdbc\")\n",
    "        .option(\"url\", url)\n",
    "        .option(\"user\", credential.username)\n",
    "        .option(\"password\", credential.password)\n",
    "        .option(\"driver\", \"com.mysql.cj.jdbc.Driver\")\n",
    "    )\n",
    "    if \"SELECT\" in queryOrTable.upper():\n",
    "        data = data.option(\"query\", queryOrTable)\n",
    "    else:\n",
    "        data = data.option(\"dbtable\", queryOrTable)\n",
    "\n",
    "    return data.load()"
   ]
  },
  {
   "cell_type": "code",
   "execution_count": 45,
   "metadata": {},
   "outputs": [],
   "source": [
    "raw_data = obtener_dataframe_de_bd(\"movimientosCopia\")"
   ]
  },
  {
   "cell_type": "markdown",
   "metadata": {},
   "source": [
    "Revisemos la descripción general de las columnas, y cuales de las afirmaciones que nos dio la empresa podemos revisar a simple vista.\n"
   ]
  },
  {
   "cell_type": "code",
   "execution_count": 63,
   "metadata": {},
   "outputs": [
    {
     "name": "stderr",
     "output_type": "stream",
     "text": [
      "                                                                                \r"
     ]
    },
    {
     "data": {
      "text/html": [
       "<div>\n",
       "<style scoped>\n",
       "    .dataframe tbody tr th:only-of-type {\n",
       "        vertical-align: middle;\n",
       "    }\n",
       "\n",
       "    .dataframe tbody tr th {\n",
       "        vertical-align: top;\n",
       "    }\n",
       "\n",
       "    .dataframe thead th {\n",
       "        text-align: right;\n",
       "    }\n",
       "</style>\n",
       "<table border=\"1\" class=\"dataframe\">\n",
       "  <thead>\n",
       "    <tr style=\"text-align: right;\">\n",
       "      <th></th>\n",
       "      <th>summary</th>\n",
       "      <th>TransaccionProductoID</th>\n",
       "      <th>ProductoID</th>\n",
       "      <th>TipoTransaccionID</th>\n",
       "      <th>ClienteID</th>\n",
       "      <th>InvoiceID</th>\n",
       "      <th>ProveedorID</th>\n",
       "      <th>OrdenDeCompraID</th>\n",
       "      <th>FechaTransaccion</th>\n",
       "      <th>Cantidad</th>\n",
       "    </tr>\n",
       "  </thead>\n",
       "  <tbody>\n",
       "    <tr>\n",
       "      <th>0</th>\n",
       "      <td>count</td>\n",
       "      <td>204292</td>\n",
       "      <td>204292</td>\n",
       "      <td>204292</td>\n",
       "      <td>204292</td>\n",
       "      <td>204292</td>\n",
       "      <td>204292</td>\n",
       "      <td>204292</td>\n",
       "      <td>204292</td>\n",
       "      <td>204292</td>\n",
       "    </tr>\n",
       "    <tr>\n",
       "      <th>1</th>\n",
       "      <td>mean</td>\n",
       "      <td>212458.04047637695</td>\n",
       "      <td>110.70090850351458</td>\n",
       "      <td>10.035253460732676</td>\n",
       "      <td>517.3252941867523</td>\n",
       "      <td>42957.26929590978</td>\n",
       "      <td>4.951898734177215</td>\n",
       "      <td>1345.9973277074544</td>\n",
       "      <td>None</td>\n",
       "      <td>719.4997650421946</td>\n",
       "    </tr>\n",
       "    <tr>\n",
       "      <th>2</th>\n",
       "      <td>stddev</td>\n",
       "      <td>71352.37579752573</td>\n",
       "      <td>63.49014746219581</td>\n",
       "      <td>0.18563716955046372</td>\n",
       "      <td>353.50136995999276</td>\n",
       "      <td>16826.9772221931</td>\n",
       "      <td>1.406311225432683</td>\n",
       "      <td>420.37740964792835</td>\n",
       "      <td>None</td>\n",
       "      <td>4729.36659747762</td>\n",
       "    </tr>\n",
       "    <tr>\n",
       "      <th>3</th>\n",
       "      <td>min</td>\n",
       "      <td>89146</td>\n",
       "      <td>1</td>\n",
       "      <td>10</td>\n",
       "      <td>0.0</td>\n",
       "      <td>0.0</td>\n",
       "      <td></td>\n",
       "      <td></td>\n",
       "      <td>2013-12-31 07:00:00.0000000</td>\n",
       "      <td>-360.0</td>\n",
       "    </tr>\n",
       "    <tr>\n",
       "      <th>4</th>\n",
       "      <td>max</td>\n",
       "      <td>336251</td>\n",
       "      <td>227</td>\n",
       "      <td>12</td>\n",
       "      <td>1061.0</td>\n",
       "      <td>70510.0</td>\n",
       "      <td>7.0</td>\n",
       "      <td>999.0</td>\n",
       "      <td>Sep 30,2015</td>\n",
       "      <td>67368.0</td>\n",
       "    </tr>\n",
       "  </tbody>\n",
       "</table>\n",
       "</div>"
      ],
      "text/plain": [
       "  summary TransaccionProductoID          ProductoID    TipoTransaccionID  \\\n",
       "0   count                204292              204292               204292   \n",
       "1    mean    212458.04047637695  110.70090850351458   10.035253460732676   \n",
       "2  stddev     71352.37579752573   63.49014746219581  0.18563716955046372   \n",
       "3     min                 89146                   1                   10   \n",
       "4     max                336251                 227                   12   \n",
       "\n",
       "            ClienteID          InvoiceID        ProveedorID  \\\n",
       "0              204292             204292             204292   \n",
       "1   517.3252941867523  42957.26929590978  4.951898734177215   \n",
       "2  353.50136995999276   16826.9772221931  1.406311225432683   \n",
       "3                 0.0                0.0                      \n",
       "4              1061.0            70510.0                7.0   \n",
       "\n",
       "      OrdenDeCompraID             FechaTransaccion           Cantidad  \n",
       "0              204292                       204292             204292  \n",
       "1  1345.9973277074544                         None  719.4997650421946  \n",
       "2  420.37740964792835                         None   4729.36659747762  \n",
       "3                      2013-12-31 07:00:00.0000000             -360.0  \n",
       "4               999.0                  Sep 30,2015            67368.0  "
      ]
     },
     "execution_count": 63,
     "metadata": {},
     "output_type": "execute_result"
    }
   ],
   "source": [
    "raw_data.describe().toPandas()"
   ]
  },
  {
   "cell_type": "code",
   "execution_count": 47,
   "metadata": {},
   "outputs": [
    {
     "name": "stderr",
     "output_type": "stream",
     "text": [
      "                                                                                \r"
     ]
    },
    {
     "data": {
      "text/plain": [
       "13.679922930011656"
      ]
     },
     "execution_count": 47,
     "metadata": {},
     "output_type": "execute_result"
    }
   ],
   "source": [
    "(1 - (raw_data.count() / 236668)) * 100"
   ]
  },
  {
   "cell_type": "markdown",
   "metadata": {},
   "source": [
    "## Descripción Inicial revisión de Afirmaciones\n",
    "\n",
    "Este primera descripción de los datos nos permite tener una idea de cada una de las columnas, todas son numercias sin embargo por su distribución min, max y el nombre de la columna podemos afirmar lo que leemos en el diccionario que son llaves a otras tablas.\n",
    "\n",
    "Algo que esta primera observación nos permite **ver es que hay una diferencia entre la afirmación** \"1. Existen 236.668 movimientos de producto realizados desde 2013\" y lo que nos muestran los datos. Pues podemos ver que tenemos un **total de 204292** filas en la tabla de movimientos. Esto representa una diferencia de 13% de datos que no obtuvimos.\n",
    "\n",
    "Revisemos ahora los clientes, según el enunciado debemos ver 228.265 clientes. **Esto ya de por si es sospechoso pues si el total de movimientos entregados es 204 mil y una relación uno a uno con clientes y movimientos**."
   ]
  },
  {
   "cell_type": "code",
   "execution_count": 48,
   "metadata": {},
   "outputs": [
    {
     "name": "stderr",
     "output_type": "stream",
     "text": [
      "                                                                                \r"
     ]
    },
    {
     "data": {
      "text/plain": [
       "664"
      ]
     },
     "execution_count": 48,
     "metadata": {},
     "output_type": "execute_result"
    }
   ],
   "source": [
    "# Count number of distinct ClienteID\n",
    "raw_data.select('ClienteID').distinct().count()"
   ]
  },
  {
   "cell_type": "markdown",
   "metadata": {},
   "source": [
    "Podemos entonces ver que solo hay 664 clientes únicos en el dataset de movimientos.\n",
    "\n",
    "Revisemos ahora el número de proveedores, el cliente afirma que son 13:"
   ]
  },
  {
   "cell_type": "code",
   "execution_count": 62,
   "metadata": {},
   "outputs": [
    {
     "name": "stderr",
     "output_type": "stream",
     "text": [
      "                                                                                \r"
     ]
    },
    {
     "data": {
      "text/html": [
       "<div>\n",
       "<style scoped>\n",
       "    .dataframe tbody tr th:only-of-type {\n",
       "        vertical-align: middle;\n",
       "    }\n",
       "\n",
       "    .dataframe tbody tr th {\n",
       "        vertical-align: top;\n",
       "    }\n",
       "\n",
       "    .dataframe thead th {\n",
       "        text-align: right;\n",
       "    }\n",
       "</style>\n",
       "<table border=\"1\" class=\"dataframe\">\n",
       "  <thead>\n",
       "    <tr style=\"text-align: right;\">\n",
       "      <th></th>\n",
       "      <th>ProveedorID</th>\n",
       "      <th>count</th>\n",
       "    </tr>\n",
       "  </thead>\n",
       "  <tbody>\n",
       "    <tr>\n",
       "      <th>0</th>\n",
       "      <td></td>\n",
       "      <td>197182</td>\n",
       "    </tr>\n",
       "    <tr>\n",
       "      <th>1</th>\n",
       "      <td>4.0</td>\n",
       "      <td>4832</td>\n",
       "    </tr>\n",
       "    <tr>\n",
       "      <th>2</th>\n",
       "      <td>7.0</td>\n",
       "      <td>2267</td>\n",
       "    </tr>\n",
       "    <tr>\n",
       "      <th>3</th>\n",
       "      <td>1.0</td>\n",
       "      <td>11</td>\n",
       "    </tr>\n",
       "  </tbody>\n",
       "</table>\n",
       "</div>"
      ],
      "text/plain": [
       "  ProveedorID   count\n",
       "0              197182\n",
       "1         4.0    4832\n",
       "2         7.0    2267\n",
       "3         1.0      11"
      ]
     },
     "execution_count": 62,
     "metadata": {},
     "output_type": "execute_result"
    }
   ],
   "source": [
    "raw_data.select('ProveedorID').groupBy('ProveedorID').count().orderBy('count', ascending=False).toPandas().head(10)"
   ]
  },
  {
   "cell_type": "markdown",
   "metadata": {},
   "source": [
    "Pero claramente podemos observar que en las bases encontramos solo 3 proveedores, y que 197 mil filas tienen el ProveedorID como un dato null, lo que presenta una limitante para analizar la información de los proveedores.\n",
    "\n",
    "Revisemos ahora el formato de las fechas, el cliente afirma \"El formato de fechas manejado es YYYY-MM-DD HH:MM:SS\", veamos si es cierto:"
   ]
  },
  {
   "cell_type": "code",
   "execution_count": 64,
   "metadata": {},
   "outputs": [
    {
     "name": "stderr",
     "output_type": "stream",
     "text": [
      "                                                                                \r"
     ]
    },
    {
     "data": {
      "text/html": [
       "<div>\n",
       "<style scoped>\n",
       "    .dataframe tbody tr th:only-of-type {\n",
       "        vertical-align: middle;\n",
       "    }\n",
       "\n",
       "    .dataframe tbody tr th {\n",
       "        vertical-align: top;\n",
       "    }\n",
       "\n",
       "    .dataframe thead th {\n",
       "        text-align: right;\n",
       "    }\n",
       "</style>\n",
       "<table border=\"1\" class=\"dataframe\">\n",
       "  <thead>\n",
       "    <tr style=\"text-align: right;\">\n",
       "      <th></th>\n",
       "      <th>FechaTransaccion</th>\n",
       "    </tr>\n",
       "  </thead>\n",
       "  <tbody>\n",
       "    <tr>\n",
       "      <th>0</th>\n",
       "      <td>Jul 27,2015</td>\n",
       "    </tr>\n",
       "    <tr>\n",
       "      <th>1</th>\n",
       "      <td>Jan 29,2016</td>\n",
       "    </tr>\n",
       "    <tr>\n",
       "      <th>2</th>\n",
       "      <td>Jan 07,2016</td>\n",
       "    </tr>\n",
       "    <tr>\n",
       "      <th>3</th>\n",
       "      <td>Feb 23,2015</td>\n",
       "    </tr>\n",
       "    <tr>\n",
       "      <th>4</th>\n",
       "      <td>Jan 09,2014</td>\n",
       "    </tr>\n",
       "    <tr>\n",
       "      <th>5</th>\n",
       "      <td>Jul 04,2014</td>\n",
       "    </tr>\n",
       "    <tr>\n",
       "      <th>6</th>\n",
       "      <td>Mar 16,2015</td>\n",
       "    </tr>\n",
       "    <tr>\n",
       "      <th>7</th>\n",
       "      <td>Jan 15,2016</td>\n",
       "    </tr>\n",
       "    <tr>\n",
       "      <th>8</th>\n",
       "      <td>Dec 07,2015</td>\n",
       "    </tr>\n",
       "    <tr>\n",
       "      <th>9</th>\n",
       "      <td>Jan 26,2016</td>\n",
       "    </tr>\n",
       "  </tbody>\n",
       "</table>\n",
       "</div>"
      ],
      "text/plain": [
       "  FechaTransaccion\n",
       "0      Jul 27,2015\n",
       "1      Jan 29,2016\n",
       "2      Jan 07,2016\n",
       "3      Feb 23,2015\n",
       "4      Jan 09,2014\n",
       "5      Jul 04,2014\n",
       "6      Mar 16,2015\n",
       "7      Jan 15,2016\n",
       "8      Dec 07,2015\n",
       "9      Jan 26,2016"
      ]
     },
     "execution_count": 64,
     "metadata": {},
     "output_type": "execute_result"
    }
   ],
   "source": [
    "raw_data.select('FechaTransaccion').sample(False, 0.05, 4).toPandas().head(10)"
   ]
  },
  {
   "cell_type": "markdown",
   "metadata": {},
   "source": [
    "Claramente el formato de la fecha es distinto en la muestra tomada, se utiliza un formato de fecha no recomendado para el uso en máquinas por el parsing que require. Incluso podemos ver que parece tener unas filas donde el formato es distinto. La mayoría de las filas parecen usar el formato `MMM dd, yyyy` pero parece haber unas con el formato especificado. Esto apunta a un problema de **consistencia en los datos**."
   ]
  },
  {
   "cell_type": "code",
   "execution_count": 65,
   "metadata": {},
   "outputs": [
    {
     "name": "stderr",
     "output_type": "stream",
     "text": [
      "                                                                                \r"
     ]
    },
    {
     "data": {
      "text/html": [
       "<div>\n",
       "<style scoped>\n",
       "    .dataframe tbody tr th:only-of-type {\n",
       "        vertical-align: middle;\n",
       "    }\n",
       "\n",
       "    .dataframe tbody tr th {\n",
       "        vertical-align: top;\n",
       "    }\n",
       "\n",
       "    .dataframe thead th {\n",
       "        text-align: right;\n",
       "    }\n",
       "</style>\n",
       "<table border=\"1\" class=\"dataframe\">\n",
       "  <thead>\n",
       "    <tr style=\"text-align: right;\">\n",
       "      <th></th>\n",
       "      <th>summary</th>\n",
       "      <th>FechaTransaccion</th>\n",
       "    </tr>\n",
       "  </thead>\n",
       "  <tbody>\n",
       "    <tr>\n",
       "      <th>0</th>\n",
       "      <td>count</td>\n",
       "      <td>204292</td>\n",
       "    </tr>\n",
       "    <tr>\n",
       "      <th>1</th>\n",
       "      <td>mean</td>\n",
       "      <td>None</td>\n",
       "    </tr>\n",
       "    <tr>\n",
       "      <th>2</th>\n",
       "      <td>stddev</td>\n",
       "      <td>None</td>\n",
       "    </tr>\n",
       "    <tr>\n",
       "      <th>3</th>\n",
       "      <td>min</td>\n",
       "      <td>2013-12-31 07:00:00.0000000</td>\n",
       "    </tr>\n",
       "    <tr>\n",
       "      <th>4</th>\n",
       "      <td>max</td>\n",
       "      <td>Sep 30,2015</td>\n",
       "    </tr>\n",
       "  </tbody>\n",
       "</table>\n",
       "</div>"
      ],
      "text/plain": [
       "  summary             FechaTransaccion\n",
       "0   count                       204292\n",
       "1    mean                         None\n",
       "2  stddev                         None\n",
       "3     min  2013-12-31 07:00:00.0000000\n",
       "4     max                  Sep 30,2015"
      ]
     },
     "execution_count": 65,
     "metadata": {},
     "output_type": "execute_result"
    }
   ],
   "source": [
    "ft = raw_data.select('FechaTransaccion')\n",
    "ft.describe().toPandas()"
   ]
  },
  {
   "cell_type": "markdown",
   "metadata": {},
   "source": [
    "Tratemos de convertir e identificar ambos formatos de fechas.\n",
    "\n",
    "Haremos una conversión para cada tipo de formato que sospechamos existe y luego compararemos con los datos iniciales a ver cuantas filas quedaron con valor null."
   ]
  },
  {
   "cell_type": "code",
   "execution_count": 72,
   "metadata": {},
   "outputs": [
    {
     "name": "stderr",
     "output_type": "stream",
     "text": [
      "                                                                                \r"
     ]
    },
    {
     "name": "stdout",
     "output_type": "stream",
     "text": [
      "Observemos cuales son null, podemos ver es donde existe el otro formato: \n"
     ]
    },
    {
     "name": "stderr",
     "output_type": "stream",
     "text": [
      "                                                                                \r"
     ]
    },
    {
     "data": {
      "text/html": [
       "<div>\n",
       "<style scoped>\n",
       "    .dataframe tbody tr th:only-of-type {\n",
       "        vertical-align: middle;\n",
       "    }\n",
       "\n",
       "    .dataframe tbody tr th {\n",
       "        vertical-align: top;\n",
       "    }\n",
       "\n",
       "    .dataframe thead th {\n",
       "        text-align: right;\n",
       "    }\n",
       "</style>\n",
       "<table border=\"1\" class=\"dataframe\">\n",
       "  <thead>\n",
       "    <tr style=\"text-align: right;\">\n",
       "      <th></th>\n",
       "      <th>TransaccionProductoID</th>\n",
       "      <th>FechaTransaccion</th>\n",
       "      <th>FechaTransaccionDate</th>\n",
       "    </tr>\n",
       "  </thead>\n",
       "  <tbody>\n",
       "    <tr>\n",
       "      <th>0</th>\n",
       "      <td>94278</td>\n",
       "      <td>2014-01-20 12:00:00.0000000</td>\n",
       "      <td>None</td>\n",
       "    </tr>\n",
       "    <tr>\n",
       "      <th>1</th>\n",
       "      <td>110581</td>\n",
       "      <td>2014-03-25 12:00:00.0000000</td>\n",
       "      <td>None</td>\n",
       "    </tr>\n",
       "    <tr>\n",
       "      <th>2</th>\n",
       "      <td>110590</td>\n",
       "      <td>2014-03-25 12:00:00.0000000</td>\n",
       "      <td>None</td>\n",
       "    </tr>\n",
       "    <tr>\n",
       "      <th>3</th>\n",
       "      <td>110621</td>\n",
       "      <td>2014-03-25 12:00:00.0000000</td>\n",
       "      <td>None</td>\n",
       "    </tr>\n",
       "    <tr>\n",
       "      <th>4</th>\n",
       "      <td>110655</td>\n",
       "      <td>2014-03-25 12:00:00.0000000</td>\n",
       "      <td>None</td>\n",
       "    </tr>\n",
       "    <tr>\n",
       "      <th>...</th>\n",
       "      <td>...</td>\n",
       "      <td>...</td>\n",
       "      <td>...</td>\n",
       "    </tr>\n",
       "    <tr>\n",
       "      <th>13923</th>\n",
       "      <td>149317</td>\n",
       "      <td>2014-08-12 12:00:00.0000000</td>\n",
       "      <td>None</td>\n",
       "    </tr>\n",
       "    <tr>\n",
       "      <th>13924</th>\n",
       "      <td>306684</td>\n",
       "      <td>2016-02-22 12:00:00.0000000</td>\n",
       "      <td>None</td>\n",
       "    </tr>\n",
       "    <tr>\n",
       "      <th>13925</th>\n",
       "      <td>93064</td>\n",
       "      <td>2014-01-15 12:00:00.0000000</td>\n",
       "      <td>None</td>\n",
       "    </tr>\n",
       "    <tr>\n",
       "      <th>13926</th>\n",
       "      <td>291187</td>\n",
       "      <td>2015-12-28 12:00:00.0000000</td>\n",
       "      <td>None</td>\n",
       "    </tr>\n",
       "    <tr>\n",
       "      <th>13927</th>\n",
       "      <td>155007</td>\n",
       "      <td>2014-09-03 12:00:00.0000000</td>\n",
       "      <td>None</td>\n",
       "    </tr>\n",
       "  </tbody>\n",
       "</table>\n",
       "<p>13928 rows × 3 columns</p>\n",
       "</div>"
      ],
      "text/plain": [
       "       TransaccionProductoID             FechaTransaccion FechaTransaccionDate\n",
       "0                      94278  2014-01-20 12:00:00.0000000                 None\n",
       "1                     110581  2014-03-25 12:00:00.0000000                 None\n",
       "2                     110590  2014-03-25 12:00:00.0000000                 None\n",
       "3                     110621  2014-03-25 12:00:00.0000000                 None\n",
       "4                     110655  2014-03-25 12:00:00.0000000                 None\n",
       "...                      ...                          ...                  ...\n",
       "13923                 149317  2014-08-12 12:00:00.0000000                 None\n",
       "13924                 306684  2016-02-22 12:00:00.0000000                 None\n",
       "13925                  93064  2014-01-15 12:00:00.0000000                 None\n",
       "13926                 291187  2015-12-28 12:00:00.0000000                 None\n",
       "13927                 155007  2014-09-03 12:00:00.0000000                 None\n",
       "\n",
       "[13928 rows x 3 columns]"
      ]
     },
     "metadata": {},
     "output_type": "display_data"
    },
    {
     "name": "stdout",
     "output_type": "stream",
     "text": [
      "En total hay 140038 filas con un formato difrente a MMM dd,yyyy\n"
     ]
    }
   ],
   "source": [
    "dateFormat = 'MMM dd,yyyy'\n",
    "withDate = raw_data.select('TransaccionProductoID', 'FechaTransaccion', f.to_date('FechaTransaccion', dateFormat).alias('FechaTransaccionDate'))\n",
    "nullRows = withDate.where(f.col('FechaTransaccionDate').isNull()).count()\n",
    "print(\"Observemos cuales son null, podemos ver es donde existe el otro formato: \")\n",
    "display(withDate.where(f.col('FechaTransaccionDate').isNull()).sample(0.1).toPandas())\n",
    "print(f\"En total hay {nullRows} filas con un formato difrente a {dateFormat}\")"
   ]
  },
  {
   "cell_type": "code",
   "execution_count": 76,
   "metadata": {},
   "outputs": [
    {
     "name": "stderr",
     "output_type": "stream",
     "text": [
      "                                                                                \r"
     ]
    },
    {
     "name": "stdout",
     "output_type": "stream",
     "text": [
      "Número de filas donde FechaTransaccionDateTime es null: 64254\n",
      "Esos rows se ven de la siguiente manera:\n"
     ]
    },
    {
     "name": "stderr",
     "output_type": "stream",
     "text": [
      "[Stage 228:>                                                        (0 + 1) / 1]\r"
     ]
    },
    {
     "name": "stdout",
     "output_type": "stream",
     "text": [
      "+---------------------+----------------+--------------------+------------------------+\n",
      "|TransaccionProductoID|FechaTransaccion|FechaTransaccionDate|FechaTransaccionDateTime|\n",
      "+---------------------+----------------+--------------------+------------------------+\n",
      "|               209857|     Mar 25,2015|          2015-03-25|                    null|\n",
      "|               136914|     Jun 27,2014|          2014-06-27|                    null|\n",
      "|               240543|     Jul 06,2015|          2015-07-06|                    null|\n",
      "|               283020|     Nov 26,2015|          2015-11-26|                    null|\n",
      "|               140035|     Jul 09,2014|          2014-07-09|                    null|\n",
      "+---------------------+----------------+--------------------+------------------------+\n",
      "only showing top 5 rows\n",
      "\n"
     ]
    },
    {
     "name": "stderr",
     "output_type": "stream",
     "text": [
      "                                                                                \r"
     ]
    }
   ],
   "source": [
    "dateTimeFormat = 'yyyy-MM-dd HH:mm:ss.SSSSSS'\n",
    "withDateTime = withDate.select('*', f.to_timestamp('FechaTransaccion').alias('FechaTransaccionDateTime'))\n",
    "print('Número de filas donde FechaTransaccionDateTime es null:', withDateTime.filter(f.col('FechaTransaccionDateTime').isNull()).count())\n",
    "print('Esos rows se ven de la siguiente manera:')\n",
    "withDateTime.where('FechaTransaccionDateTime is null').sample(0.1).show(5)\n",
    "\n",
    "raw_data_with_fecha_parsed = withDateTime"
   ]
  },
  {
   "cell_type": "markdown",
   "metadata": {},
   "source": [
    "Ahora agamos juntemos las dos columnas, como la FechaDeTransaccion ya parseada en una columna tipo datetime y revisemos los null, si da igual al número de filas inicial no tenemos perdidad de datos."
   ]
  },
  {
   "cell_type": "code",
   "execution_count": 77,
   "metadata": {},
   "outputs": [
    {
     "name": "stderr",
     "output_type": "stream",
     "text": [
      "[Stage 232:>                                                        (0 + 1) / 1]\r"
     ]
    },
    {
     "name": "stdout",
     "output_type": "stream",
     "text": [
      "Después de coalesce, no hay nulos, todas las filas fueron parseadas correctamente, descripción:\n"
     ]
    },
    {
     "name": "stderr",
     "output_type": "stream",
     "text": [
      "                                                                                \r"
     ]
    }
   ],
   "source": [
    "# Coalesce FechaTransaccionDate and FechaTransaccionTime into one column FechaTransaccionParsed\n",
    "result = withDateTime.select('FechaTransaccion', f.coalesce('FechaTransaccionDate', 'FechaTransaccionDateTime').alias('FechaTransaccionParsed'))\n",
    "if result.count() == result.where('FechaTransaccionParsed is not null').count():\n",
    "    print('Después de coalesce, no hay nulos, todas las filas fueron parseadas correctamente, descripción:')\n",
    "else:\n",
    "    print('Después de coalesce, hay nulos, no todas las filas fueron parseadas correctamente')"
   ]
  },
  {
   "cell_type": "markdown",
   "metadata": {},
   "source": [
    "Podemos generar una gráfica de número de transacciones por mes para observar el comportamiento."
   ]
  },
  {
   "cell_type": "code",
   "execution_count": 78,
   "metadata": {},
   "outputs": [
    {
     "name": "stderr",
     "output_type": "stream",
     "text": [
      "                                                                                \r"
     ]
    },
    {
     "data": {
      "text/plain": [
       "<Axes: xlabel='FechaTransaccion'>"
      ]
     },
     "execution_count": 78,
     "metadata": {},
     "output_type": "execute_result"
    },
    {
     "data": {
      "image/png": "[encoded data removed]",
      "text/plain": [
       "<Figure size 640x480 with 1 Axes>"
      ]
     },
     "metadata": {},
     "output_type": "display_data"
    }
   ],
   "source": [
    "# Change it to a barchart\n",
    "result.select(f.date_format('FechaTransaccionParsed', 'MM-MMM').alias('FechaTransaccion')).groupBy('FechaTransaccion').count().orderBy('FechaTransaccion').toPandas().plot.bar(x='FechaTransaccion', y='count')"
   ]
  },
  {
   "cell_type": "markdown",
   "metadata": {},
   "source": [
    "Ahora revisemos la última afirmación del cliente que dice \"La cantidad máxima de productos movidos es 50 millones por transacción\". Para esto no me queda claro que es una transacción en este contexto, pues la tabla se llama movimientos, revisemos de dos formas, considerando que una transacción es una fila, o agrupando por tipo de transacción y sumando la cantidad de productos movidos.\n",
    "\n",
    "Haremos la conversión de la columna con valor absoluto entendiendo que el movimiento puede ser de entrada o salida."
   ]
  },
  {
   "cell_type": "code",
   "execution_count": 79,
   "metadata": {},
   "outputs": [
    {
     "name": "stderr",
     "output_type": "stream",
     "text": [
      "[Stage 244:>                                                        (0 + 1) / 1]\r"
     ]
    },
    {
     "name": "stdout",
     "output_type": "stream",
     "text": [
      "Si se considera que una transaccion es una fila, el valor máximo es 67368.0, lo cual es menor que 50 millones\n",
      "Si se considera que una transaccion es una transaccion, el valor máximo es 154702496.0, para el tipo de transaccion 11, que es mayor que 50 millones\n"
     ]
    },
    {
     "name": "stderr",
     "output_type": "stream",
     "text": [
      "                                                                                \r"
     ]
    }
   ],
   "source": [
    "# Get the max value\n",
    "comoFila = raw_data.select(f.abs('Cantidad').alias('CantidadABS')).rdd.max()[0]\n",
    "comoTipoDeTransaccion = raw_data.select('TipoTransaccionID', f.abs('Cantidad').alias('CantidadABS')).groupBy('TipoTransaccionID').sum('CantidadABS').orderBy('sum(CantidadABS)', ascending=False).first()\n",
    "print(f\"Si se considera que una transaccion es una fila, el valor máximo es {comoFila}, lo cual es menor que 50 millones\")\n",
    "print(f\"Si se considera que una transaccion es una transaccion, el valor máximo es {comoTipoDeTransaccion[1]}, para el tipo de transaccion {comoTipoDeTransaccion[0]}, que es mayor que 50 millones\")"
   ]
  },
  {
   "cell_type": "markdown",
   "metadata": {},
   "source": [
    "## Perfilamiento de los Datos\n",
    "\n",
    "Además del análisis anteriormente realizado, veamos nuevamente cantidad, características de cada columna y significado de una fila."
   ]
  },
  {
   "cell_type": "code",
   "execution_count": 82,
   "metadata": {},
   "outputs": [
    {
     "name": "stderr",
     "output_type": "stream",
     "text": [
      "                                                                                \r"
     ]
    },
    {
     "data": {
      "text/html": [
       "<div>\n",
       "<style scoped>\n",
       "    .dataframe tbody tr th:only-of-type {\n",
       "        vertical-align: middle;\n",
       "    }\n",
       "\n",
       "    .dataframe tbody tr th {\n",
       "        vertical-align: top;\n",
       "    }\n",
       "\n",
       "    .dataframe thead th {\n",
       "        text-align: right;\n",
       "    }\n",
       "</style>\n",
       "<table border=\"1\" class=\"dataframe\">\n",
       "  <thead>\n",
       "    <tr style=\"text-align: right;\">\n",
       "      <th></th>\n",
       "      <th>summary</th>\n",
       "      <th>TransaccionProductoID</th>\n",
       "      <th>ProductoID</th>\n",
       "      <th>TipoTransaccionID</th>\n",
       "      <th>ClienteID</th>\n",
       "      <th>InvoiceID</th>\n",
       "      <th>ProveedorID</th>\n",
       "      <th>OrdenDeCompraID</th>\n",
       "      <th>FechaTransaccion</th>\n",
       "      <th>Cantidad</th>\n",
       "    </tr>\n",
       "  </thead>\n",
       "  <tbody>\n",
       "    <tr>\n",
       "      <th>0</th>\n",
       "      <td>count</td>\n",
       "      <td>204292</td>\n",
       "      <td>204292</td>\n",
       "      <td>204292</td>\n",
       "      <td>204292</td>\n",
       "      <td>204292</td>\n",
       "      <td>204292</td>\n",
       "      <td>204292</td>\n",
       "      <td>204292</td>\n",
       "      <td>204292</td>\n",
       "    </tr>\n",
       "    <tr>\n",
       "      <th>1</th>\n",
       "      <td>mean</td>\n",
       "      <td>212458.04047637695</td>\n",
       "      <td>110.70090850351458</td>\n",
       "      <td>10.035253460732676</td>\n",
       "      <td>517.3252941867523</td>\n",
       "      <td>42957.26929590978</td>\n",
       "      <td>4.951898734177215</td>\n",
       "      <td>1345.9973277074544</td>\n",
       "      <td>None</td>\n",
       "      <td>719.4997650421946</td>\n",
       "    </tr>\n",
       "    <tr>\n",
       "      <th>2</th>\n",
       "      <td>stddev</td>\n",
       "      <td>71352.37579752573</td>\n",
       "      <td>63.49014746219581</td>\n",
       "      <td>0.18563716955046372</td>\n",
       "      <td>353.50136995999276</td>\n",
       "      <td>16826.9772221931</td>\n",
       "      <td>1.406311225432683</td>\n",
       "      <td>420.37740964792835</td>\n",
       "      <td>None</td>\n",
       "      <td>4729.36659747762</td>\n",
       "    </tr>\n",
       "    <tr>\n",
       "      <th>3</th>\n",
       "      <td>min</td>\n",
       "      <td>89146</td>\n",
       "      <td>1</td>\n",
       "      <td>10</td>\n",
       "      <td>0.0</td>\n",
       "      <td>0.0</td>\n",
       "      <td></td>\n",
       "      <td></td>\n",
       "      <td>2013-12-31 07:00:00.0000000</td>\n",
       "      <td>-360.0</td>\n",
       "    </tr>\n",
       "    <tr>\n",
       "      <th>4</th>\n",
       "      <td>max</td>\n",
       "      <td>336251</td>\n",
       "      <td>227</td>\n",
       "      <td>12</td>\n",
       "      <td>1061.0</td>\n",
       "      <td>70510.0</td>\n",
       "      <td>7.0</td>\n",
       "      <td>999.0</td>\n",
       "      <td>Sep 30,2015</td>\n",
       "      <td>67368.0</td>\n",
       "    </tr>\n",
       "  </tbody>\n",
       "</table>\n",
       "</div>"
      ],
      "text/plain": [
       "  summary TransaccionProductoID          ProductoID    TipoTransaccionID  \\\n",
       "0   count                204292              204292               204292   \n",
       "1    mean    212458.04047637695  110.70090850351458   10.035253460732676   \n",
       "2  stddev     71352.37579752573   63.49014746219581  0.18563716955046372   \n",
       "3     min                 89146                   1                   10   \n",
       "4     max                336251                 227                   12   \n",
       "\n",
       "            ClienteID          InvoiceID        ProveedorID  \\\n",
       "0              204292             204292             204292   \n",
       "1   517.3252941867523  42957.26929590978  4.951898734177215   \n",
       "2  353.50136995999276   16826.9772221931  1.406311225432683   \n",
       "3                 0.0                0.0                      \n",
       "4              1061.0            70510.0                7.0   \n",
       "\n",
       "      OrdenDeCompraID             FechaTransaccion           Cantidad  \n",
       "0              204292                       204292             204292  \n",
       "1  1345.9973277074544                         None  719.4997650421946  \n",
       "2  420.37740964792835                         None   4729.36659747762  \n",
       "3                      2013-12-31 07:00:00.0000000             -360.0  \n",
       "4               999.0                  Sep 30,2015            67368.0  "
      ]
     },
     "metadata": {},
     "output_type": "display_data"
    },
    {
     "name": "stdout",
     "output_type": "stream",
     "text": [
      "root\n",
      " |-- TransaccionProductoID: integer (nullable = true)\n",
      " |-- ProductoID: integer (nullable = true)\n",
      " |-- TipoTransaccionID: integer (nullable = true)\n",
      " |-- ClienteID: double (nullable = true)\n",
      " |-- InvoiceID: double (nullable = true)\n",
      " |-- ProveedorID: string (nullable = true)\n",
      " |-- OrdenDeCompraID: string (nullable = true)\n",
      " |-- FechaTransaccion: string (nullable = true)\n",
      " |-- Cantidad: double (nullable = true)\n",
      "\n"
     ]
    }
   ],
   "source": [
    "display(raw_data.describe().toPandas())\n",
    "raw_data.printSchema()"
   ]
  },
  {
   "cell_type": "markdown",
   "metadata": {},
   "source": [
    "Como se ha mencionado antes tenemos 204292 registros, en 9 columnas con el anterior esquema, sin embargo a pesar de que en su mayoría son numéricas las columnas, realmente son categóricas.\n",
    "\n",
    "- TransaccionProductoID: es de tipo integer, pero al ser el identificador podemos considerar que es una columna categorica.\n",
    "- ProductoID: es de tipo integer, pero al ser el identificador podemos considerar que es una columna categorica.\n",
    "- TipoTransaccionID: es de tipo integer, pero al ser el identificador de un tipo de la transacción podemos considerar que es una columna categorica.\n",
    "- ClienteID: es de tipo integer, pero al ser el identificador podemos considerar que es una columna categorica.\n",
    "- InvoiceID: es de tipo integer, pero al ser el identificador podemos considerar que es una columna categorica.\n",
    "- ProveedorID: es de tipo string, debería ser tipo integer, pero al ser el identificador podemos considerar que es una columna categorica.\n",
    "- OrdenDeCompraID: es de tipo string, debería ser tipo integer, pero al ser el identificador podemos considerar que es una columna categorica.\n",
    "- FechaTransaccion: es de tipo string, pero realmente es una fecha, que en ocasiones también tiene el valor de la hora, como se analizó anteriormente.\n",
    "- Cantidad: la cantidad es de tipo float, esta columna si es numérica, a difrenecia de las demás.\n",
    "\n",
    "Revisemos ahora la completitud, que porcentaje de NULL hay en cada dato."
   ]
  },
  {
   "cell_type": "code",
   "execution_count": 86,
   "metadata": {},
   "outputs": [
    {
     "name": "stderr",
     "output_type": "stream",
     "text": [
      "                                                                                \r"
     ]
    },
    {
     "data": {
      "text/html": [
       "<div>\n",
       "<style scoped>\n",
       "    .dataframe tbody tr th:only-of-type {\n",
       "        vertical-align: middle;\n",
       "    }\n",
       "\n",
       "    .dataframe tbody tr th {\n",
       "        vertical-align: top;\n",
       "    }\n",
       "\n",
       "    .dataframe thead th {\n",
       "        text-align: right;\n",
       "    }\n",
       "</style>\n",
       "<table border=\"1\" class=\"dataframe\">\n",
       "  <thead>\n",
       "    <tr style=\"text-align: right;\">\n",
       "      <th></th>\n",
       "      <th>count</th>\n",
       "      <th>percentage</th>\n",
       "    </tr>\n",
       "  </thead>\n",
       "  <tbody>\n",
       "    <tr>\n",
       "      <th>TransaccionProductoID</th>\n",
       "      <td>0</td>\n",
       "      <td>0.000000</td>\n",
       "    </tr>\n",
       "    <tr>\n",
       "      <th>ProductoID</th>\n",
       "      <td>0</td>\n",
       "      <td>0.000000</td>\n",
       "    </tr>\n",
       "    <tr>\n",
       "      <th>TipoTransaccionID</th>\n",
       "      <td>0</td>\n",
       "      <td>0.000000</td>\n",
       "    </tr>\n",
       "    <tr>\n",
       "      <th>ClienteID</th>\n",
       "      <td>0</td>\n",
       "      <td>0.000000</td>\n",
       "    </tr>\n",
       "    <tr>\n",
       "      <th>InvoiceID</th>\n",
       "      <td>0</td>\n",
       "      <td>0.000000</td>\n",
       "    </tr>\n",
       "    <tr>\n",
       "      <th>ProveedorID</th>\n",
       "      <td>197182</td>\n",
       "      <td>96.519688</td>\n",
       "    </tr>\n",
       "    <tr>\n",
       "      <th>OrdenDeCompraID</th>\n",
       "      <td>197182</td>\n",
       "      <td>96.519688</td>\n",
       "    </tr>\n",
       "    <tr>\n",
       "      <th>FechaTransaccion</th>\n",
       "      <td>0</td>\n",
       "      <td>0.000000</td>\n",
       "    </tr>\n",
       "    <tr>\n",
       "      <th>Cantidad</th>\n",
       "      <td>0</td>\n",
       "      <td>0.000000</td>\n",
       "    </tr>\n",
       "  </tbody>\n",
       "</table>\n",
       "</div>"
      ],
      "text/plain": [
       "                        count  percentage\n",
       "TransaccionProductoID       0    0.000000\n",
       "ProductoID                  0    0.000000\n",
       "TipoTransaccionID           0    0.000000\n",
       "ClienteID                   0    0.000000\n",
       "InvoiceID                   0    0.000000\n",
       "ProveedorID            197182   96.519688\n",
       "OrdenDeCompraID        197182   96.519688\n",
       "FechaTransaccion            0    0.000000\n",
       "Cantidad                    0    0.000000"
      ]
     },
     "execution_count": 86,
     "metadata": {},
     "output_type": "execute_result"
    }
   ],
   "source": [
    "# Get the null percentage for each row of the dataset\n",
    "df = raw_data.replace('', None)\n",
    "number_of_rows = df.count()\n",
    "null_counts = df.select(\n",
    "    [f.sum(f.col(c).isNull().cast(\"int\")).alias(c) for c in df.columns]\n",
    ")\n",
    "null_counts = null_counts.toPandas().transpose().rename(columns={0: 'count'})\n",
    "null_counts['percentage'] = null_counts['count'] / number_of_rows * 100\n",
    "null_counts"
   ]
  },
  {
   "cell_type": "markdown",
   "metadata": {},
   "source": [
    "Podemos ver que en dos columnas, que casualmente tenían tipo string encontramos un porcentaje del 96% sin datos, esto puede indicar que son columnas que se usaron solo por un tiempo, y quedaron en el esquema de la db, pero es de suma importancia que el negocio nos indique.\n",
    "\n",
    "Ahora revisemos unicidad."
   ]
  },
  {
   "cell_type": "code",
   "execution_count": 87,
   "metadata": {},
   "outputs": [
    {
     "name": "stderr",
     "output_type": "stream",
     "text": [
      "[Stage 289:>                                                        (0 + 1) / 1]\r"
     ]
    },
    {
     "name": "stdout",
     "output_type": "stream",
     "text": [
      "Hay 30633 duplicados exactos (todas las columnas) son iguales\n",
      "Porcentaje de duplicados: 14.99%\n"
     ]
    },
    {
     "name": "stderr",
     "output_type": "stream",
     "text": [
      "                                                                                \r"
     ]
    }
   ],
   "source": [
    "full_count = raw_data.count()\n",
    "distinct_count = raw_data.distinct().count()\n",
    "if full_count != distinct_count:\n",
    "    print(f'Hay {full_count - distinct_count} duplicados exactos (todas las columnas) son iguales')\n",
    "    print(f'Porcentaje de duplicados: {(full_count - distinct_count) / full_count * 100:.2f}%')\n",
    "else:\n",
    "    print(f'No hay duplicados exactos (todas las columnas) en el dataset')"
   ]
  },
  {
   "cell_type": "markdown",
   "metadata": {},
   "source": [
    "Claramente tenemos problemas de unicidad, con un 15% de duplicados. Es preocupante que no se maneje un primari key con `TransaccionProductoID`` que habría eliminado este problema. Ahora miremos si encontramos quizás una duplicidad semántica, quizás movimientos con el mismo producto, tipo de transaccion, cliente e invoice en la misma fecha puedan indicar una duplicidad.\n",
    "\n",
    "Sin embargo debido a la falta de consistencia en la fecha de transacción puede ser difícil pues unos tienen resolución hasta el segundo y otros solo hasta el día."
   ]
  },
  {
   "cell_type": "code",
   "execution_count": 89,
   "metadata": {},
   "outputs": [
    {
     "name": "stderr",
     "output_type": "stream",
     "text": [
      "                                                                                \r"
     ]
    },
    {
     "name": "stdout",
     "output_type": "stream",
     "text": [
      "Cantidad de registros con posible duplicidad semántica:  30633\n",
      "Algunos ejemplos:\n"
     ]
    },
    {
     "name": "stderr",
     "output_type": "stream",
     "text": [
      "                                                                                \r"
     ]
    },
    {
     "data": {
      "text/html": [
       "<div>\n",
       "<style scoped>\n",
       "    .dataframe tbody tr th:only-of-type {\n",
       "        vertical-align: middle;\n",
       "    }\n",
       "\n",
       "    .dataframe tbody tr th {\n",
       "        vertical-align: top;\n",
       "    }\n",
       "\n",
       "    .dataframe thead th {\n",
       "        text-align: right;\n",
       "    }\n",
       "</style>\n",
       "<table border=\"1\" class=\"dataframe\">\n",
       "  <thead>\n",
       "    <tr style=\"text-align: right;\">\n",
       "      <th></th>\n",
       "      <th>ProductoID</th>\n",
       "      <th>Cantidad</th>\n",
       "      <th>ClienteID</th>\n",
       "      <th>InvoiceID</th>\n",
       "      <th>FechaTransaccion</th>\n",
       "      <th>count</th>\n",
       "    </tr>\n",
       "  </thead>\n",
       "  <tbody>\n",
       "    <tr>\n",
       "      <th>0</th>\n",
       "      <td>84</td>\n",
       "      <td>-36.0</td>\n",
       "      <td>1018.0</td>\n",
       "      <td>41822.0</td>\n",
       "      <td>2015-02-19 12:00:00.0000000</td>\n",
       "      <td>2</td>\n",
       "    </tr>\n",
       "    <tr>\n",
       "      <th>1</th>\n",
       "      <td>75</td>\n",
       "      <td>-1.0</td>\n",
       "      <td>975.0</td>\n",
       "      <td>38664.0</td>\n",
       "      <td>2014-12-25 12:00:00.0000000</td>\n",
       "      <td>2</td>\n",
       "    </tr>\n",
       "    <tr>\n",
       "      <th>2</th>\n",
       "      <td>112</td>\n",
       "      <td>-3.0</td>\n",
       "      <td>852.0</td>\n",
       "      <td>29299.0</td>\n",
       "      <td>2014-07-09 12:00:00.0000000</td>\n",
       "      <td>2</td>\n",
       "    </tr>\n",
       "    <tr>\n",
       "      <th>3</th>\n",
       "      <td>183</td>\n",
       "      <td>-75.0</td>\n",
       "      <td>66.0</td>\n",
       "      <td>58558.0</td>\n",
       "      <td>2015-11-14 12:00:00.0000000</td>\n",
       "      <td>2</td>\n",
       "    </tr>\n",
       "    <tr>\n",
       "      <th>4</th>\n",
       "      <td>64</td>\n",
       "      <td>-1.0</td>\n",
       "      <td>107.0</td>\n",
       "      <td>27431.0</td>\n",
       "      <td>2014-06-07 12:00:00.0000000</td>\n",
       "      <td>2</td>\n",
       "    </tr>\n",
       "    <tr>\n",
       "      <th>...</th>\n",
       "      <td>...</td>\n",
       "      <td>...</td>\n",
       "      <td>...</td>\n",
       "      <td>...</td>\n",
       "      <td>...</td>\n",
       "      <td>...</td>\n",
       "    </tr>\n",
       "    <tr>\n",
       "      <th>318</th>\n",
       "      <td>98</td>\n",
       "      <td>-36.0</td>\n",
       "      <td>959.0</td>\n",
       "      <td>67056.0</td>\n",
       "      <td>2016-04-08 12:00:00.0000000</td>\n",
       "      <td>2</td>\n",
       "    </tr>\n",
       "    <tr>\n",
       "      <th>319</th>\n",
       "      <td>106</td>\n",
       "      <td>-7.0</td>\n",
       "      <td>186.0</td>\n",
       "      <td>22673.0</td>\n",
       "      <td>2014-03-14 12:00:00.0000000</td>\n",
       "      <td>2</td>\n",
       "    </tr>\n",
       "    <tr>\n",
       "      <th>320</th>\n",
       "      <td>137</td>\n",
       "      <td>-8.0</td>\n",
       "      <td>572.0</td>\n",
       "      <td>54113.0</td>\n",
       "      <td>2015-09-04 12:00:00.0000000</td>\n",
       "      <td>2</td>\n",
       "    </tr>\n",
       "    <tr>\n",
       "      <th>321</th>\n",
       "      <td>23</td>\n",
       "      <td>-8.0</td>\n",
       "      <td>33.0</td>\n",
       "      <td>48060.0</td>\n",
       "      <td>2015-05-29 12:00:00.0000000</td>\n",
       "      <td>2</td>\n",
       "    </tr>\n",
       "    <tr>\n",
       "      <th>322</th>\n",
       "      <td>68</td>\n",
       "      <td>-2.0</td>\n",
       "      <td>152.0</td>\n",
       "      <td>20237.0</td>\n",
       "      <td>2014-01-28 12:00:00.0000000</td>\n",
       "      <td>2</td>\n",
       "    </tr>\n",
       "  </tbody>\n",
       "</table>\n",
       "<p>323 rows × 6 columns</p>\n",
       "</div>"
      ],
      "text/plain": [
       "     ProductoID  Cantidad  ClienteID  InvoiceID             FechaTransaccion  \\\n",
       "0            84     -36.0     1018.0    41822.0  2015-02-19 12:00:00.0000000   \n",
       "1            75      -1.0      975.0    38664.0  2014-12-25 12:00:00.0000000   \n",
       "2           112      -3.0      852.0    29299.0  2014-07-09 12:00:00.0000000   \n",
       "3           183     -75.0       66.0    58558.0  2015-11-14 12:00:00.0000000   \n",
       "4            64      -1.0      107.0    27431.0  2014-06-07 12:00:00.0000000   \n",
       "..          ...       ...        ...        ...                          ...   \n",
       "318          98     -36.0      959.0    67056.0  2016-04-08 12:00:00.0000000   \n",
       "319         106      -7.0      186.0    22673.0  2014-03-14 12:00:00.0000000   \n",
       "320         137      -8.0      572.0    54113.0  2015-09-04 12:00:00.0000000   \n",
       "321          23      -8.0       33.0    48060.0  2015-05-29 12:00:00.0000000   \n",
       "322          68      -2.0      152.0    20237.0  2014-01-28 12:00:00.0000000   \n",
       "\n",
       "     count  \n",
       "0        2  \n",
       "1        2  \n",
       "2        2  \n",
       "3        2  \n",
       "4        2  \n",
       "..     ...  \n",
       "318      2  \n",
       "319      2  \n",
       "320      2  \n",
       "321      2  \n",
       "322      2  \n",
       "\n",
       "[323 rows x 6 columns]"
      ]
     },
     "execution_count": 89,
     "metadata": {},
     "output_type": "execute_result"
    }
   ],
   "source": [
    "df = raw_data\n",
    "result = df.groupBy('ProductoID', 'Cantidad', 'ClienteID', 'InvoiceID', 'FechaTransaccion').count().orderBy('count', ascending=True)\n",
    "print('Cantidad de registros con posible duplicidad semántica: ', result.where('count > 1').count())\n",
    "print('Algunos ejemplos:')\n",
    "result.where('count > 1').sample(False, 0.01).toPandas()"
   ]
  },
  {
   "cell_type": "markdown",
   "metadata": {},
   "source": [
    "Podemos ver que parece haber duplicidad semántica en mútliples movimientos, con varias columnas que juntas deberían quizás ser diferenciadoras del movimiento.\n",
    "\n",
    "En este proceso también se encontraron valores llamativos en las columnas, como algunas presentando valor de 0, que para casi ninguna de las columnas tiene sentido (**falta de consistencia**), miremos:"
   ]
  },
  {
   "cell_type": "code",
   "execution_count": 94,
   "metadata": {},
   "outputs": [
    {
     "name": "stderr",
     "output_type": "stream",
     "text": [
      "                                                                                \r"
     ]
    },
    {
     "data": {
      "text/html": [
       "<div>\n",
       "<style scoped>\n",
       "    .dataframe tbody tr th:only-of-type {\n",
       "        vertical-align: middle;\n",
       "    }\n",
       "\n",
       "    .dataframe tbody tr th {\n",
       "        vertical-align: top;\n",
       "    }\n",
       "\n",
       "    .dataframe thead th {\n",
       "        text-align: right;\n",
       "    }\n",
       "</style>\n",
       "<table border=\"1\" class=\"dataframe\">\n",
       "  <thead>\n",
       "    <tr style=\"text-align: right;\">\n",
       "      <th></th>\n",
       "      <th>Filas con valor de 0</th>\n",
       "    </tr>\n",
       "  </thead>\n",
       "  <tbody>\n",
       "    <tr>\n",
       "      <th>Cantidad</th>\n",
       "      <td>5</td>\n",
       "    </tr>\n",
       "    <tr>\n",
       "      <th>ClienteID</th>\n",
       "      <td>7156</td>\n",
       "    </tr>\n",
       "    <tr>\n",
       "      <th>InvoiceID</th>\n",
       "      <td>7156</td>\n",
       "    </tr>\n",
       "  </tbody>\n",
       "</table>\n",
       "</div>"
      ],
      "text/plain": [
       "           Filas con valor de 0\n",
       "Cantidad                      5\n",
       "ClienteID                  7156\n",
       "InvoiceID                  7156"
      ]
     },
     "execution_count": 94,
     "metadata": {},
     "output_type": "execute_result"
    }
   ],
   "source": [
    "with_zero = raw_data.select([\n",
    "    (f.sum((f.col(c) == f.lit(0)).cast('int'))).alias(c) for c in ['Cantidad', 'ClienteID', 'InvoiceID']\n",
    "])\n",
    "with_zero.toPandas().transpose().rename(columns={0: 'Filas con valor de 0'})"
   ]
  },
  {
   "cell_type": "markdown",
   "metadata": {},
   "source": [
    "Esto nos presenta más problemas de consistencia, pues aunque no son null, estos estados son inválidos:\n",
    "\n",
    "- Un movimiento con cantidad 0 no tiene sentido.\n",
    "- El hecho de que halla la misma cantidad con ClienteID 0 y InvoiceID 0 indica que es un posible placeholder cuando en realidad no se tiene dato, y no parece que fuese lo que debería ser que es un primary key."
   ]
  },
  {
   "cell_type": "markdown",
   "metadata": {},
   "source": [
    "### Fila\n",
    "\n",
    "Una fila en este dataset representa un movimiento de un producto, este movimiento está asociada con varias entidades del negocio, un producto, un cliente, un invoice (cotización), un proveedor, una orden de compra, un tipo de transacción, una cantidad y una fecha del movimiento. Es decir trata de **representar como sale y entra un producto en el negocio**. Algo que es muy importante para una empresa de retail."
   ]
  },
  {
   "attachments": {
    "image.png": {
     "image/png": "[encoded data removed]"
    }
   },
   "cell_type": "markdown",
   "metadata": {},
   "source": [
    "## Preguntas y aclaraciones\n",
    "\n",
    "\n",
    "1. A que se debe la diferencia entre la cantidad de movimientos mencionados en el documento entregado vs lo que encontramos en el dataset (13% menos).\n",
    "1. Se menciona una existencia de 228.265 clientes, al seguir la definición del diccionario en la tabla movimientos vemos se refiere a la columna `ClienteID` pero al hacer una distinción encontramos que solo hay 664 clientes distintos. ¿A que se debe esta diferencia?\n",
    "1. Se meciona que la fecha está en formato `YYYY-MM-DD HH:MM:SS` (2014-01-01 10:55) pero al revisar el dataset encontramos que la columna `Fecha` está en formato `MMM dd,yyy` (Jan 01,2014) y en formato `yyyy-MM-dd HH:mm:ss.SSSSSS`. ¿A que se debe esta diferencia? Se acalara que hay más de 60 mil filas que tienen el formato sin hora.\n",
    "1. Se menciona que hay 13 proveedores, pero al revisar los datos solo encontramos 3 proveedores, y 197 mil filas sin proveedor, es decir casi todo el dataset (96%). A que se debe esta diferencia, creen que se puede subsanar?\n",
    "1. Al igual que con los proveedores parece haber problemas con el dato de OrdenDeCompraID, para los cuales no hay informacióñ para 197 mil filas, la misma cantidad que en el caso de ProveedorID\n",
    "1. A que se refiere con \"cantidad máxima de productos movidos por transacción\", a una fila o la agrupación por `TipoTransacciónID`?\n",
    "1. Se evidencian duplicados exactos en el dataset de un 15% lo que equivale a 30 mil filas, a que se debe esto?\n",
    "1. Se evidencian ordenes con cantidad de 0, algo que debe ser imposible, que se hace con esos casos?\n",
    "1. Se evidencian que el ClienteID y InvoiceID tienen valor de 0 en 7156 movimientos, realmente parecieran ser usados como placeholder para el valor NULL, que se sugiere que se haga en este caso.\n",
    "\n",
    "## Conclusión\n",
    "\n",
    "El dataset entregado es amplio e importante, sin embargo se detectan a simple vistas problemas de calidad, desde la unicidad a la consistencia. Esto es una primera alerta para la empresa, que sus datos relacionales tienen problemas.\n",
    "\n",
    "Analizando que el objetivo del cliente es el siguiente:\n",
    "\n",
    "![image.png](attachment:image.png)\n",
    "\n",
    "Considero que se puede alcanzar, sin embargo se debe tener presente que el dataset tiene problemas de unicidad e integridad, por lo cual los valores finales pueden ser diferentes a los esperados, y ciertos análisis no se podrán realizar. También cabe afirmar que es necesario que se provea la información relacionada a valores del producto, clientes, ciudades, etc. Pues en el dataset entregado se tienen los ID pero no sabemos si estos existen en otro dataset y que mantinene su integridad.\n",
    "\n",
    "Sin embargo considero que se debe descartar el análisis de proveedor y orden de compra, pues no se tiene información de estos, y no se puede hacer un análisis de los mismos."
   ]
  }
 ],
 "metadata": {
  "kernelspec": {
   "display_name": "uni",
   "language": "python",
   "name": "python3"
  },
  "language_info": {
   "codemirror_mode": {
    "name": "ipython",
    "version": 3
   },
   "file_extension": ".py",
   "mimetype": "text/x-python",
   "name": "python",
   "nbconvert_exporter": "python",
   "pygments_lexer": "ipython3",
   "version": "3.11.3"
  },
  "orig_nbformat": 4
 },
 "nbformat": 4,
 "nbformat_minor": 2
}
